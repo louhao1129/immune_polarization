{
 "cells": [
  {
   "cell_type": "code",
   "execution_count": 3,
   "metadata": {},
   "outputs": [],
   "source": [
    "import numpy as np\n",
    "import pandas as pd\n",
    "import matplotlib.pyplot as plt\n",
    "import scanpy as sc\n",
    "import anndata as ad\n",
    "import os\n",
    "from pathlib import Path"
   ]
  },
  {
   "cell_type": "markdown",
   "metadata": {},
   "source": [
    "# QC"
   ]
  },
  {
   "cell_type": "markdown",
   "metadata": {},
   "source": [
    "先成功复现质控的部分，抽样查看顺序是否一致，毕竟 R 和 Python 的处理可能不同\n",
    "\n",
    "然后提取免疫细胞亚组，可以使用唯一标识符，比如 barcode？（如果唯一的话，可以用 unique 查看一下行数，否则可以自己生成一列 unique_id，省去转换对象的麻烦，不建议用绝对数字，最好是其他几列拼接成的字符串列，这样避免顺序不一致）"
   ]
  },
  {
   "cell_type": "code",
   "execution_count": 4,
   "metadata": {},
   "outputs": [],
   "source": [
    "# 定义过滤阈值\n",
    "nFeature_lower = 500\n",
    "nFeature_upper = 10000\n",
    "nCount_lower = 1000\n",
    "nCount_upper = 100000\n",
    "pMT_upper = 30\n",
    "pHB_upper = 5\n",
    "\n",
    "# 读取样本列表\n",
    "samples_df = pd.read_excel(\"../data/metadata/patients_metadata.xlsx\", usecols=\"A\")\n",
    "samples = samples_df['sample_id'].tolist()\n"
   ]
  },
  {
   "cell_type": "code",
   "execution_count": 5,
   "metadata": {},
   "outputs": [
    {
     "name": "stderr",
     "output_type": "stream",
     "text": [
      "/tmp/ipykernel_816266/2487816240.py:26: FutureWarning: Use anndata.concat instead of AnnData.concatenate, AnnData.concatenate is deprecated and will be removed in the future. See the tutorial for concat at: https://anndata.readthedocs.io/en/latest/concatenation.html\n",
      "  merged_adata = adatas[0].concatenate(\n"
     ]
    },
    {
     "data": {
      "text/plain": [
       "AnnData object with n_obs × n_vars = 133736 × 33538\n",
       "    obs: 'sample'\n",
       "    var: 'gene_ids', 'feature_types'"
      ]
     },
     "execution_count": 5,
     "metadata": {},
     "output_type": "execute_result"
    }
   ],
   "source": [
    "# 读取所有样本数据\n",
    "adatas = []\n",
    "for i, sample in enumerate(samples):\n",
    "    # 构建路径\n",
    "    data_dir = Path(f\"../data/cellranger/{sample}/filtered_feature_bc_matrix\")\n",
    "    \n",
    "    # 读取 Cell Ranger 数据\n",
    "    adata = sc.read_10x_mtx(\n",
    "        data_dir,  # 矩阵目录\n",
    "        var_names='gene_symbols',  # 使用基因符号作为变量名\n",
    "        cache=True  # 缓存以提高读取速度\n",
    "    )\n",
    "    \n",
    "    # 添加样本标识到观测名\n",
    "    adata.obs_names = [f\"{sample}_{x}\" for x in adata.obs_names]\n",
    "    \n",
    "    # 添加样本信息到 obs\n",
    "    adata.obs['sample'] = sample\n",
    "    \n",
    "    # 过滤低质量细胞（提前过滤空液滴）\n",
    "    #sc.pp.filter_cells(adata, min_genes=nFeature_lower)  # 对应 min.cells=3\n",
    "    \n",
    "    adatas.append(adata)\n",
    "\n",
    "# 合并所有样本\n",
    "merged_adata = adatas[0].concatenate(\n",
    "    adatas[1:],\n",
    "    join='outer',  # 保留所有基因\n",
    "    batch_key='sample',  # 存储样本来源的列名\n",
    "    index_unique=None  # 不添加唯一索引\n",
    ")\n",
    "\n",
    "merged_adata"
   ]
  },
  {
   "cell_type": "code",
   "execution_count": 11,
   "metadata": {},
   "outputs": [],
   "source": [
    "with open(\"imm_ids.txt\") as f:\n",
    "    imm_ids = [line.strip() for line in f]"
   ]
  },
  {
   "cell_type": "code",
   "execution_count": 13,
   "metadata": {},
   "outputs": [],
   "source": [
    "imm_subset = merged_adata[merged_adata.obs.index.isin(imm_ids), :]"
   ]
  },
  {
   "cell_type": "code",
   "execution_count": null,
   "metadata": {},
   "outputs": [
    {
     "data": {
      "text/plain": [
       "AnnData object with n_obs × n_vars = 114494 × 33538\n",
       "    obs: 'sample', 'n_genes', 'n_genes_by_counts', 'total_counts', 'total_counts_mt', 'pMT', 'total_counts_hb', 'pHB', 'total_counts_ribo', 'pRP'\n",
       "    var: 'gene_ids', 'feature_types', 'mt', 'hb', 'ribo', 'n_cells_by_counts', 'mean_counts', 'pct_dropout_by_counts', 'total_counts'"
      ]
     },
     "execution_count": 44,
     "metadata": {},
     "output_type": "execute_result"
    }
   ],
   "source": [
    "# 过滤低质量细胞（提前过滤空液滴）\n",
    "sc.pp.filter_cells(merged_adata, min_genes=nFeature_lower)  # 对应 min.cells=3\n",
    "\n",
    "# 计算质量控制指标\n",
    "def calculate_qc(adata):\n",
    "    # 线粒体基因（注意基因命名方式）\n",
    "    adata.var['mt'] = adata.var_names.str.startswith('MT-')\n",
    "    # 血红蛋白基因（同时匹配大小写）\n",
    "    adata.var['hb'] = adata.var_names.str.upper().str.startswith(('HBA', 'HBB'))\n",
    "    # 核糖体基因\n",
    "    adata.var['ribo'] = adata.var_names.str.startswith(('RPS', 'RPL'))\n",
    "    \n",
    "    # 计算百分比\n",
    "    sc.pp.calculate_qc_metrics(\n",
    "        adata,\n",
    "        qc_vars=['mt', 'hb', 'ribo'],\n",
    "        percent_top=None,\n",
    "        log1p=False,\n",
    "        inplace=True\n",
    "    )\n",
    "    \n",
    "    # 重命名列以匹配 R 代码\n",
    "    adata.obs.rename(columns={\n",
    "        'pct_counts_mt': 'pMT',\n",
    "        'pct_counts_hb': 'pHB',\n",
    "        'pct_counts_ribo': 'pRP'\n",
    "    }, inplace=True)\n",
    "    \n",
    "    return adata\n",
    "\n",
    "merged_adata = calculate_qc(merged_adata)\n",
    "\n",
    "# 应用过滤条件\n",
    "filtered_adata = merged_adata[\n",
    "    (merged_adata.obs.n_genes_by_counts > nFeature_lower) &\n",
    "    (merged_adata.obs.n_genes_by_counts < nFeature_upper) &\n",
    "    (merged_adata.obs.total_counts > nCount_lower) &\n",
    "    (merged_adata.obs.total_counts < nCount_upper) &\n",
    "    (merged_adata.obs.pMT < pMT_upper) &\n",
    "    (merged_adata.obs.pHB < pHB_upper), :\n",
    "].copy()\n",
    "\n",
    "filtered_adata"
   ]
  },
  {
   "cell_type": "code",
   "execution_count": 22,
   "metadata": {},
   "outputs": [
    {
     "name": "stderr",
     "output_type": "stream",
     "text": [
      "/home/louhao/.conda/envs/info/lib/python3.10/site-packages/anndata/_core/anndata.py:1146: ImplicitModificationWarning: Trying to modify attribute `.var` of view, initializing view as actual.\n",
      "  df[key] = c\n"
     ]
    }
   ],
   "source": [
    "imm_subset.write_h5ad('seurat_objects/imm_subset.h5ad')"
   ]
  },
  {
   "cell_type": "markdown",
   "metadata": {},
   "source": [
    "# UCE Embedding"
   ]
  },
  {
   "cell_type": "code",
   "execution_count": 24,
   "metadata": {},
   "outputs": [
    {
     "data": {
      "text/plain": [
       "AnnData object with n_obs × n_vars = 82888 × 33538\n",
       "    obs: 'sample'\n",
       "    var: 'gene_ids', 'feature_types'"
      ]
     },
     "execution_count": 24,
     "metadata": {},
     "output_type": "execute_result"
    }
   ],
   "source": [
    "imm = sc.read_h5ad(\"seurat_objects/imm_subset.h5ad\")\n",
    "imm"
   ]
  },
  {
   "cell_type": "markdown",
   "metadata": {},
   "source": [
    "略有出入，但是假装可以，然后继续先把代码搞定，scttransform 实在是太消耗时间了，其实应该把 immune 亚组挑选出来进行UCE 嵌入的\n",
    "\n",
    "Final evaluated AnnData: dir/{dataset_name}.h5ad. This AnnData will be identical to the proccessed input anndata, but have UCE embeddings added in the .obsm[\"X_uce\"] slot.\n"
   ]
  },
  {
   "cell_type": "code",
   "execution_count": null,
   "metadata": {},
   "outputs": [],
   "source": [
    "# 激活环境，进入eval_single_anndata.py 文件所在路径，去除感叹号后复制到终端运行\n",
    "# 参数解释详见 https://github.com/snap-stanford/uce\n",
    "!CUDA_VISIBLE_DEVICES=1 python eval_single_anndata.py --adata_path /data/sjwlab/louhao/immune_polarization/code/seurat_objects/imm_subset.h5ad --dir /data/sjwlab/louhao/immune_polarization/code/UCE --species human --model_loc model_files/4layer_model.torch --batch_size 50"
   ]
  },
  {
   "cell_type": "code",
   "execution_count": 47,
   "metadata": {},
   "outputs": [
    {
     "data": {
      "text/plain": [
       "AnnData object with n_obs × n_vars = 114494 × 33538\n",
       "    obs: 'sample', 'n_genes', 'n_genes_by_counts', 'total_counts', 'total_counts_mt', 'pMT', 'total_counts_hb', 'pHB', 'total_counts_ribo', 'pRP'\n",
       "    var: 'gene_ids', 'feature_types', 'mt', 'hb', 'ribo', 'n_cells_by_counts', 'mean_counts', 'pct_dropout_by_counts', 'total_counts'"
      ]
     },
     "execution_count": 47,
     "metadata": {},
     "output_type": "execute_result"
    }
   ],
   "source": [
    "adata = sc.read_h5ad('seurat_objects/filtered_adata.h5ad')\n",
    "adata"
   ]
  },
  {
   "cell_type": "code",
   "execution_count": null,
   "metadata": {},
   "outputs": [],
   "source": [
    "adata_uce = sc.read_h5ad('UCE/UCEfiltered_adata_uce_adata.h5ad')"
   ]
  },
  {
   "cell_type": "code",
   "execution_count": null,
   "metadata": {},
   "outputs": [],
   "source": [
    "uce_emb = adata_uce.obsm['X_uce']\n",
    "df_emb = pd.DataFrame(uce_emb, index=adata_uce.obs_names, columns=[f'uce_{i}' for i in range(1, uce_emb.shape[1]+1)])\n",
    "df_emb.to_csv('UCE/uce_emb.csv.gz')"
   ]
  }
 ],
 "metadata": {
  "kernelspec": {
   "display_name": "info",
   "language": "python",
   "name": "python3"
  },
  "language_info": {
   "codemirror_mode": {
    "name": "ipython",
    "version": 3
   },
   "file_extension": ".py",
   "mimetype": "text/x-python",
   "name": "python",
   "nbconvert_exporter": "python",
   "pygments_lexer": "ipython3",
   "version": "3.10.16"
  }
 },
 "nbformat": 4,
 "nbformat_minor": 2
}
