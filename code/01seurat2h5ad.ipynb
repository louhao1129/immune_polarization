{
 "cells": [
  {
   "cell_type": "code",
   "execution_count": 1,
   "metadata": {
    "vscode": {
     "languageId": "r"
    }
   },
   "outputs": [
    {
     "name": "stderr",
     "output_type": "stream",
     "text": [
      "载入需要的程序包：SeuratObject\n",
      "\n",
      "载入需要的程序包：sp\n",
      "\n",
      "Warning message:\n",
      "“程序包‘sp’是用R版本4.4.2 来建造的”\n"
     ]
    },
    {
     "name": "stderr",
     "output_type": "stream",
     "text": [
      "\n",
      "载入程序包：‘SeuratObject’\n",
      "\n",
      "\n",
      "The following objects are masked from ‘package:base’:\n",
      "\n",
      "    intersect, t\n",
      "\n",
      "\n",
      "Registered S3 method overwritten by 'SeuratDisk':\n",
      "  method            from  \n",
      "  as.sparse.H5Group Seurat\n",
      "\n",
      "qs2 0.1.4\n",
      "\n"
     ]
    }
   ],
   "source": [
    "library(Seurat)\n",
    "library(SeuratDisk)\n",
    "library(qs2)"
   ]
  },
  {
   "cell_type": "code",
   "execution_count": 2,
   "metadata": {
    "vscode": {
     "languageId": "r"
    }
   },
   "outputs": [
    {
     "data": {
      "text/plain": [
       "An object of class Seurat \n",
       "51576 features across 82888 samples within 2 assays \n",
       "Active assay: SCT (25280 features, 3000 variable features)\n",
       " 3 layers present: counts, data, scale.data\n",
       " 1 other assay present: RNA\n",
       " 2 dimensional reductions calculated: pca, umap"
      ]
     },
     "metadata": {},
     "output_type": "display_data"
    }
   ],
   "source": [
    "imm = qs_read(\"seurat_objects/imm.qs2\")\n",
    "imm"
   ]
  },
  {
   "cell_type": "markdown",
   "metadata": {},
   "source": [
    "DefaultAssay指定当前默认的 assay，后续分析步骤会基于这个 assay 进行\n",
    "\n",
    "影响的功能：\n",
    "\n",
    "FeaturePlot、VlnPlot 这些可视化函数\n",
    "\n",
    "FindVariableFeatures、ScaleData 等处理函数\n",
    "\n",
    "转换格式（比如导出 h5ad 时 .X 的数据来源）"
   ]
  },
  {
   "cell_type": "markdown",
   "metadata": {},
   "source": [
    "Seurat V5 多了layer结构，可能导致了转换的失败。将Seurat V5的Assay转换成V3的Assay就可以使用SeuratDisk的函数进行转换了"
   ]
  },
  {
   "cell_type": "code",
   "execution_count": null,
   "metadata": {
    "vscode": {
     "languageId": "r"
    }
   },
   "outputs": [
    {
     "name": "stderr",
     "output_type": "stream",
     "text": [
      "Normalizing layer: counts\n",
      "\n",
      "Centering and scaling data matrix\n",
      "\n"
     ]
    }
   ],
   "source": [
    "DefaultAssay(imm) <- \"RNA\"\n",
    "imm <- NormalizeData(imm)\n",
    "imm <- ScaleData(imm)"
   ]
  },
  {
   "cell_type": "code",
   "execution_count": null,
   "metadata": {
    "vscode": {
     "languageId": "r"
    }
   },
   "outputs": [],
   "source": [
    "DefaultAssay(imm) <- \"RNA3\"\n",
    "imm[[\"RNA\"]] <- NULL\n",
    "imm <- RenameAssays(object = imm, RNA3 = 'RNA')\n",
    "imm[[\"RNA\"]]$scale.data <- NULL"
   ]
  },
  {
   "cell_type": "code",
   "execution_count": 16,
   "metadata": {
    "vscode": {
     "languageId": "r"
    }
   },
   "outputs": [
    {
     "name": "stderr",
     "output_type": "stream",
     "text": [
      "Creating h5Seurat file for version 3.1.5.9900\n",
      "\n"
     ]
    },
    {
     "name": "stderr",
     "output_type": "stream",
     "text": [
      "Adding counts for SCT\n",
      "\n",
      "Adding data for SCT\n",
      "\n",
      "Adding scale.data for SCT\n",
      "\n",
      "Adding variable features for SCT\n",
      "\n",
      "No feature-level metadata found for SCT\n",
      "\n",
      "Writing out SCTModel.list for SCT\n",
      "\n",
      "Adding cell embeddings for pca\n",
      "\n",
      "Adding loadings for pca\n",
      "\n",
      "No projected loadings for pca\n",
      "\n",
      "Adding standard deviations for pca\n",
      "\n",
      "No JackStraw data for pca\n",
      "\n",
      "Adding cell embeddings for umap\n",
      "\n",
      "No loadings for umap\n",
      "\n",
      "No projected loadings for umap\n",
      "\n",
      "No standard deviations for umap\n",
      "\n",
      "No JackStraw data for umap\n",
      "\n",
      "Validating h5Seurat file\n",
      "\n",
      "Adding data from RNA as X\n",
      "\n"
     ]
    },
    {
     "ename": "ERROR",
     "evalue": "Error in assay.group$obj_copy_to(dst_loc = dfile, dst_name = \"X\", src_name = x.data): HDF5-API Errors:\n    error #000: H5O.c in H5Ocopy(): line 544: unable to synchronously copy object\n        class: HDF5\n        major: Object header\n        minor: Unable to copy object\n\n    error #001: H5O.c in H5O__copy_api_common(): line 453: unable to copy object\n        class: HDF5\n        major: Object header\n        minor: Unable to copy object\n\n    error #002: H5VLcallback.c in H5VL_object_copy(): line 5889: object copy failed\n        class: HDF5\n        major: Virtual Object Layer\n        minor: Unable to copy object\n\n    error #003: H5VLcallback.c in H5VL__object_copy(): line 5850: object copy failed\n        class: HDF5\n        major: Virtual Object Layer\n        minor: Unable to copy object\n\n    error #004: H5VLnative_object.c in H5VL__native_object_copy(): line 155: unable to copy object\n        class: HDF5\n        major: Object header\n        minor: Unable to copy object\n\n    error #005: H5Ocopy.c in H5O__copy(): line 153: source object not found\n        class: HDF5\n      \n",
     "output_type": "error",
     "traceback": [
      "Error in assay.group$obj_copy_to(dst_loc = dfile, dst_name = \"X\", src_name = x.data): HDF5-API Errors:\n    error #000: H5O.c in H5Ocopy(): line 544: unable to synchronously copy object\n        class: HDF5\n        major: Object header\n        minor: Unable to copy object\n\n    error #001: H5O.c in H5O__copy_api_common(): line 453: unable to copy object\n        class: HDF5\n        major: Object header\n        minor: Unable to copy object\n\n    error #002: H5VLcallback.c in H5VL_object_copy(): line 5889: object copy failed\n        class: HDF5\n        major: Virtual Object Layer\n        minor: Unable to copy object\n\n    error #003: H5VLcallback.c in H5VL__object_copy(): line 5850: object copy failed\n        class: HDF5\n        major: Virtual Object Layer\n        minor: Unable to copy object\n\n    error #004: H5VLnative_object.c in H5VL__native_object_copy(): line 155: unable to copy object\n        class: HDF5\n        major: Object header\n        minor: Unable to copy object\n\n    error #005: H5Ocopy.c in H5O__copy(): line 153: source object not found\n        class: HDF5\n      \nTraceback:\n",
      "1. Convert.character(\"seurat_objects/imm.h5Seurat\", dest = \"h5ad\")",
      "2. Convert(source = hfile, dest = dest, assay = assay, overwrite = overwrite, \n .     verbose = verbose, ...)",
      "3. Convert.h5Seurat(source = hfile, dest = dest, assay = assay, \n .     overwrite = overwrite, verbose = verbose, ...)",
      "4. H5SeuratToH5AD(source = source, dest = dest, assay = assay, overwrite = overwrite, \n .     verbose = verbose)",
      "5. assay.group$obj_copy_to(dst_loc = dfile, dst_name = \"X\", src_name = x.data)",
      "6. .handleSimpleError(function (cnd) \n . {\n .     watcher$capture_plot_and_output()\n .     cnd <- sanitize_call(cnd)\n .     watcher$push(cnd)\n .     switch(on_error, continue = invokeRestart(\"eval_continue\"), \n .         stop = invokeRestart(\"eval_stop\"), error = NULL)\n . }, \"HDF5-API Errors:\\n    error #000: H5O.c in H5Ocopy(): line 544: unable to synchronously copy object\\n        class: HDF5\\n        major: Object header\\n        minor: Unable to copy object\\n\\n    error #001: H5O.c in H5O__copy_api_common(): line 453: unable to copy object\\n        class: HDF5\\n        major: Object header\\n        minor: Unable to copy object\\n\\n    error #002: H5VLcallback.c in H5VL_object_copy(): line 5889: object copy failed\\n        class: HDF5\\n        major: Virtual Object Layer\\n        minor: Unable to copy object\\n\\n    error #003: H5VLcallback.c in H5VL__object_copy(): line 5850: object copy failed\\n        class: HDF5\\n        major: Virtual Object Layer\\n        minor: Unable to copy object\\n\\n    error #004: H5VLnative_object.c in H5VL__native_object_copy(): line 155: unable to copy object\\n        class: HDF5\\n        major: Object header\\n        minor: Unable to copy object\\n\\n    error #005: H5Ocopy.c in H5O__copy(): line 153: source object not found\\n        class: HDF5\\n      \", \n .     base::quote(assay.group$obj_copy_to(dst_loc = dfile, dst_name = \"X\", \n .         src_name = x.data)))"
     ]
    }
   ],
   "source": [
    "SaveH5Seurat(imm, filename = \"seurat_objects/imm.h5Seurat\")\n",
    "Convert(\"seurat_objects/imm.h5Seurat\", dest = \"h5ad\")"
   ]
  },
  {
   "cell_type": "code",
   "execution_count": 46,
   "metadata": {
    "vscode": {
     "languageId": "r"
    }
   },
   "outputs": [
    {
     "name": "stdout",
     "output_type": "stream",
     "text": [
      "'data.frame':\t82888 obs. of  35 variables:\n",
      " $ orig.ident     : chr  \"p018t\" \"p018t\" \"p018t\" \"p018t\" ...\n",
      " $ nCount_RNA     : num  1583 2077 2637 4538 4597 ...\n",
      " $ nFeature_RNA   : int  843 1011 1213 1848 1954 923 1407 900 979 1023 ...\n",
      " $ pMT            : num  8.97 7.94 7.81 8.42 12.33 ...\n",
      " $ pHB            : num  0 0 0 0 0 0 0 0 0 0 ...\n",
      " $ pRP            : num  15.35 11.8 5.84 5.86 8.33 ...\n",
      " $ nCount_SCT     : num  1890 2100 2428 2862 2888 ...\n",
      " $ nFeature_SCT   : int  843 1011 1213 1711 1824 923 1384 900 979 1023 ...\n",
      " $ SCT_snn_res.0.1: Factor w/ 16 levels \"0\",\"1\",\"2\",\"3\",..: 2 3 2 2 2 3 2 3 3 2 ...\n",
      " $ SCT_snn_res.0.2: Factor w/ 21 levels \"0\",\"1\",\"2\",\"3\",..: 3 2 3 3 3 2 3 2 2 3 ...\n",
      " $ SCT_snn_res.0.3: Factor w/ 25 levels \"0\",\"1\",\"2\",\"3\",..: 3 2 3 3 3 2 3 2 2 2 ...\n",
      " $ SCT_snn_res.0.4: Factor w/ 28 levels \"0\",\"1\",\"2\",\"3\",..: 2 1 13 13 2 6 13 6 6 1 ...\n",
      " $ SCT_snn_res.0.5: Factor w/ 29 levels \"0\",\"1\",\"2\",\"3\",..: 3 1 10 10 3 14 10 14 14 1 ...\n",
      " $ SCT_snn_res.1  : Factor w/ 42 levels \"0\",\"1\",\"2\",\"3\",..: 15 7 6 6 4 15 6 15 15 19 ...\n",
      " $ SCT_snn_res.2  : Factor w/ 63 levels \"0\",\"1\",\"2\",\"3\",..: 24 4 25 25 20 32 13 32 32 14 ...\n",
      " $ seurat_clusters: Factor w/ 63 levels \"0\",\"1\",\"2\",\"3\",..: 24 4 25 25 20 32 13 32 32 14 ...\n",
      " $ main_cell_type : Factor w/ 4 levels \"Immune\",\"Epithelial\",..: 1 1 1 1 1 1 1 1 1 1 ...\n",
      " $ cell_id        : chr  \"p018t_AAACCCAAGCATCAAA-1\" \"p018t_AAACCCACAAAGGCTG-1\" \"p018t_AAACCCACAATCGCCG-1\" \"p018t_AAACCCACACCCTAAA-1\" ...\n",
      " $ sample_id      : chr  \"p018t\" \"p018t\" \"p018t\" \"p018t\" ...\n",
      " $ patient_id     : chr  \"p018\" \"p018\" \"p018\" \"p018\" ...\n",
      " $ tissue_type    : chr  \"Tumor\" \"Tumor\" \"Tumor\" \"Tumor\" ...\n",
      " $ W_no           : chr  \"W/2020/003110\" \"W/2020/003110\" \"W/2020/003110\" \"W/2020/003110\" ...\n",
      " $ date_of_surgery: POSIXct, format: \"2019-10-01\" \"2019-10-01\" ...\n",
      " $ topography     : chr  \"C34.1 (Lungenoberlappen)\" \"C34.1 (Lungenoberlappen)\" \"C34.1 (Lungenoberlappen)\" \"C34.1 (Lungenoberlappen)\" ...\n",
      " $ morphology     : chr  \"M8140/3 (Adenokarzinom o.n.A.)\" \"M8140/3 (Adenokarzinom o.n.A.)\" \"M8140/3 (Adenokarzinom o.n.A.)\" \"M8140/3 (Adenokarzinom o.n.A.)\" ...\n",
      " $ histo_subtype  : chr  \"acinar\" \"acinar\" \"acinar\" \"acinar\" ...\n",
      " $ tnm            : chr  \"pT1a pN0 (0/4) G2 L0 V0 R0\" \"pT1a pN0 (0/4) G2 L0 V0 R0\" \"pT1a pN0 (0/4) G2 L0 V0 R0\" \"pT1a pN0 (0/4) G2 L0 V0 R0\" ...\n",
      " $ sex            : chr  \"F\" \"F\" \"F\" \"F\" ...\n",
      " $ age            : num  58 58 58 58 58 58 58 58 58 58 ...\n",
      " $ frozen         : chr  \"FALSE\" \"FALSE\" \"FALSE\" \"FALSE\" ...\n",
      " $ ffpe           : chr  \"FALSE\" \"FALSE\" \"FALSE\" \"FALSE\" ...\n",
      " $ S.Score        : num  -0.0246 -0.0146 0.0141 -0.0146 -0.0518 ...\n",
      " $ G2M.Score      : num  -0.00544 -0.01666 -0.02254 -0.02079 -0.03141 ...\n",
      " $ Phase          : chr  \"G1\" \"G1\" \"S\" \"G1\" ...\n",
      " $ CC.Diff        : num  -0.01918 0.00209 0.03663 0.00624 -0.02044 ...\n"
     ]
    }
   ],
   "source": [
    "str(imm@meta.data)"
   ]
  },
  {
   "cell_type": "code",
   "execution_count": null,
   "metadata": {
    "vscode": {
     "languageId": "r"
    }
   },
   "outputs": [
    {
     "data": {
      "text/html": [
       "82888"
      ],
      "text/latex": [
       "82888"
      ],
      "text/markdown": [
       "82888"
      ],
      "text/plain": [
       "[1] 82888"
      ]
     },
     "metadata": {},
     "output_type": "display_data"
    }
   ],
   "source": [
    "ids_seurat <- rownames(imm@meta.data)  # 获取 Seurat 中的 id 信息"
   ]
  },
  {
   "cell_type": "code",
   "execution_count": 51,
   "metadata": {
    "vscode": {
     "languageId": "r"
    }
   },
   "outputs": [
    {
     "name": "stdout",
     "output_type": "stream",
     "text": [
      "'data.frame':\t82888 obs. of  35 variables:\n",
      " $ orig.ident     : chr  \"p018t\" \"p018t\" \"p018t\" \"p018t\" ...\n",
      " $ nCount_RNA     : num  1583 2077 2637 4538 4597 ...\n",
      " $ nFeature_RNA   : int  843 1011 1213 1848 1954 923 1407 900 979 1023 ...\n",
      " $ pMT            : num  8.97 7.94 7.81 8.42 12.33 ...\n",
      " $ pHB            : num  0 0 0 0 0 0 0 0 0 0 ...\n",
      " $ pRP            : num  15.35 11.8 5.84 5.86 8.33 ...\n",
      " $ nCount_SCT     : num  1890 2100 2428 2862 2888 ...\n",
      " $ nFeature_SCT   : int  843 1011 1213 1711 1824 923 1384 900 979 1023 ...\n",
      " $ SCT_snn_res.0.1: Factor w/ 16 levels \"0\",\"1\",\"2\",\"3\",..: 2 3 2 2 2 3 2 3 3 2 ...\n",
      " $ SCT_snn_res.0.2: Factor w/ 21 levels \"0\",\"1\",\"2\",\"3\",..: 3 2 3 3 3 2 3 2 2 3 ...\n",
      " $ SCT_snn_res.0.3: Factor w/ 25 levels \"0\",\"1\",\"2\",\"3\",..: 3 2 3 3 3 2 3 2 2 2 ...\n",
      " $ SCT_snn_res.0.4: Factor w/ 28 levels \"0\",\"1\",\"2\",\"3\",..: 2 1 13 13 2 6 13 6 6 1 ...\n",
      " $ SCT_snn_res.0.5: Factor w/ 29 levels \"0\",\"1\",\"2\",\"3\",..: 3 1 10 10 3 14 10 14 14 1 ...\n",
      " $ SCT_snn_res.1  : Factor w/ 42 levels \"0\",\"1\",\"2\",\"3\",..: 15 7 6 6 4 15 6 15 15 19 ...\n",
      " $ SCT_snn_res.2  : Factor w/ 63 levels \"0\",\"1\",\"2\",\"3\",..: 24 4 25 25 20 32 13 32 32 14 ...\n",
      " $ seurat_clusters: Factor w/ 63 levels \"0\",\"1\",\"2\",\"3\",..: 24 4 25 25 20 32 13 32 32 14 ...\n",
      " $ main_cell_type : Factor w/ 4 levels \"Immune\",\"Epithelial\",..: 1 1 1 1 1 1 1 1 1 1 ...\n",
      " $ cell_id        : chr  \"p018t_AAACCCAAGCATCAAA-1\" \"p018t_AAACCCACAAAGGCTG-1\" \"p018t_AAACCCACAATCGCCG-1\" \"p018t_AAACCCACACCCTAAA-1\" ...\n",
      " $ sample_id      : chr  \"p018t\" \"p018t\" \"p018t\" \"p018t\" ...\n",
      " $ patient_id     : chr  \"p018\" \"p018\" \"p018\" \"p018\" ...\n",
      " $ tissue_type    : chr  \"Tumor\" \"Tumor\" \"Tumor\" \"Tumor\" ...\n",
      " $ W_no           : chr  \"W/2020/003110\" \"W/2020/003110\" \"W/2020/003110\" \"W/2020/003110\" ...\n",
      " $ date_of_surgery: POSIXct, format: \"2019-10-01\" \"2019-10-01\" ...\n",
      " $ topography     : chr  \"C34.1 (Lungenoberlappen)\" \"C34.1 (Lungenoberlappen)\" \"C34.1 (Lungenoberlappen)\" \"C34.1 (Lungenoberlappen)\" ...\n",
      " $ morphology     : chr  \"M8140/3 (Adenokarzinom o.n.A.)\" \"M8140/3 (Adenokarzinom o.n.A.)\" \"M8140/3 (Adenokarzinom o.n.A.)\" \"M8140/3 (Adenokarzinom o.n.A.)\" ...\n",
      " $ histo_subtype  : chr  \"acinar\" \"acinar\" \"acinar\" \"acinar\" ...\n",
      " $ tnm            : chr  \"pT1a pN0 (0/4) G2 L0 V0 R0\" \"pT1a pN0 (0/4) G2 L0 V0 R0\" \"pT1a pN0 (0/4) G2 L0 V0 R0\" \"pT1a pN0 (0/4) G2 L0 V0 R0\" ...\n",
      " $ sex            : chr  \"F\" \"F\" \"F\" \"F\" ...\n",
      " $ age            : num  58 58 58 58 58 58 58 58 58 58 ...\n",
      " $ frozen         : chr  \"FALSE\" \"FALSE\" \"FALSE\" \"FALSE\" ...\n",
      " $ ffpe           : chr  \"FALSE\" \"FALSE\" \"FALSE\" \"FALSE\" ...\n",
      " $ S.Score        : num  -0.0246 -0.0146 0.0141 -0.0146 -0.0518 ...\n",
      " $ G2M.Score      : num  -0.00544 -0.01666 -0.02254 -0.02079 -0.03141 ...\n",
      " $ Phase          : chr  \"G1\" \"G1\" \"S\" \"G1\" ...\n",
      " $ CC.Diff        : num  -0.01918 0.00209 0.03663 0.00624 -0.02044 ...\n"
     ]
    }
   ],
   "source": [
    "str(imm@meta.data)"
   ]
  },
  {
   "cell_type": "code",
   "execution_count": 53,
   "metadata": {
    "vscode": {
     "languageId": "r"
    }
   },
   "outputs": [],
   "source": [
    "writeLines(rownames(imm@meta.data), \"imm_ids.txt\")"
   ]
  }
 ],
 "metadata": {
  "kernelspec": {
   "display_name": "R",
   "language": "R",
   "name": "ir"
  },
  "language_info": {
   "codemirror_mode": "r",
   "file_extension": ".r",
   "mimetype": "text/x-r-source",
   "name": "R",
   "pygments_lexer": "r",
   "version": "4.4.1"
  }
 },
 "nbformat": 4,
 "nbformat_minor": 2
}
