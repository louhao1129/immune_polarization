{
 "cells": [
  {
   "cell_type": "code",
   "execution_count": null,
   "metadata": {
    "vscode": {
     "languageId": "r"
    }
   },
   "outputs": [],
   "source": [
    "library(tidyverse)\n",
    "library(qs2)\n",
    "library(BayesPrism)"
   ]
  },
  {
   "cell_type": "code",
   "execution_count": null,
   "metadata": {
    "vscode": {
     "languageId": "r"
    }
   },
   "outputs": [],
   "source": [
    "imm = qs_read()"
   ]
  },
  {
   "cell_type": "code",
   "execution_count": null,
   "metadata": {
    "vscode": {
     "languageId": "r"
    }
   },
   "outputs": [],
   "source": [
    "# 整理BayesPrism所需的单细胞输入文件\n",
    "table(af$Celltype)                     # 先看一下每种细胞的数量\n",
    "\n",
    "set.seed(123)  # 设置随机种子以获得可重复的抽取结果\n",
    "nsample <- 20         # 每种细胞亚群想要抽取的数量，全部做反卷积，运算量太大\n",
    "\n",
    "cell_meta <- af@meta.data %>% as.data.frame()\n",
    "cell_meta$cell_names <- rownames(cell_meta)\n",
    "cell_meta <- cell_meta %>% \n",
    "  group_by(Celltype) %>%\n",
    "  sample_n(nsample) %>%\n",
    "  ungroup()\n",
    "sc.dat <- af@assays$RNA@counts %>% as.matrix\n",
    "sc.dat <- sc.dat[, cell_meta$cell_names] %>% t()         # 如果想用全部的细胞去做反卷积，那么这一行不用跑"
   ]
  }
 ],
 "metadata": {
  "language_info": {
   "name": "python"
  }
 },
 "nbformat": 4,
 "nbformat_minor": 2
}
